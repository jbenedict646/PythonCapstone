{
 "cells": [
  {
   "cell_type": "code",
   "execution_count": 19,
   "id": "a6960d1c-afb3-487f-ab3d-5b419b626470",
   "metadata": {},
   "outputs": [],
   "source": [
    "from bs4 import BeautifulSoup\n",
    "import requests\n",
    "import pandas as pd\n",
    "#this url contains the data you need to scrape\n",
    "url = \"https://cf-courses-data.s3.us.cloud-object-storage.appdomain.cloud/IBM-DA0321EN-SkillsNetwork/labs/datasets/Programming_Languages.html\"\n",
    "data = requests.get(url).text\n",
    "soup = BeautifulSoup(data,\"html.parser\")"
   ]
  },
  {
   "cell_type": "code",
   "execution_count": 35,
   "id": "9955448a-f494-4b3c-a7b8-7e320539a1d1",
   "metadata": {},
   "outputs": [],
   "source": [
    "language_data = pd.DataFrame(columns=[\"Language\", \"Average Annual Salary\"])\n",
    "for row in soup.find(\"tbody\").find_all('tr'):\n",
    "    col = row.find_all(\"td\")\n",
    "    language = col[1].text\n",
    "    avg_ann_sal = col[3].text\n",
    "    language_data = pd.concat([language_data,pd.DataFrame({\"Language\":[language], \"Average Annual Salary\":[avg_ann_sal]})], ignore_index=True)\n",
    "language_data.drop(0, inplace=True)"
   ]
  },
  {
   "cell_type": "code",
   "execution_count": 39,
   "id": "3b5e032e-ff25-4de6-b6a5-4a09c54a5fda",
   "metadata": {},
   "outputs": [],
   "source": [
    "language_data.to_csv('popular-languages.csv', index=False)"
   ]
  }
 ],
 "metadata": {
  "kernelspec": {
   "display_name": "Python [conda env:base] *",
   "language": "python",
   "name": "conda-base-py"
  },
  "language_info": {
   "codemirror_mode": {
    "name": "ipython",
    "version": 3
   },
   "file_extension": ".py",
   "mimetype": "text/x-python",
   "name": "python",
   "nbconvert_exporter": "python",
   "pygments_lexer": "ipython3",
   "version": "3.12.7"
  }
 },
 "nbformat": 4,
 "nbformat_minor": 5
}
