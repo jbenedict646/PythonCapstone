{
 "cells": [
  {
   "cell_type": "code",
   "execution_count": 1,
   "id": "b71096a1-2070-4368-8410-9d3714e0fb1f",
   "metadata": {},
   "outputs": [],
   "source": [
    "#Warm-Up Exercise\n",
    "import requests\n",
    "import pandas as pd\n",
    "api_url =\"http://api.open-notify.org/astros.json\"\n",
    "response = requests.get(api_url)\n",
    "if response.ok:\n",
    "    data = response.json()"
   ]
  },
  {
   "cell_type": "code",
   "execution_count": 7,
   "id": "ae302938-1499-4edb-a8b8-aed24a397ecd",
   "metadata": {},
   "outputs": [
    {
     "name": "stdout",
     "output_type": "stream",
     "text": [
      "12\n"
     ]
    }
   ],
   "source": [
    "print(data.get('number'))"
   ]
  },
  {
   "cell_type": "code",
   "execution_count": 9,
   "id": "e0ff4c03-5c1a-4a61-b116-d2025fb993e0",
   "metadata": {},
   "outputs": [
    {
     "name": "stdout",
     "output_type": "stream",
     "text": [
      "There are 12 astronauts on ISS\n",
      "And their names are :\n",
      "Oleg Kononenko\n",
      "Nikolai Chub\n",
      "Tracy Caldwell Dyson\n",
      "Matthew Dominick\n",
      "Michael Barratt\n",
      "Jeanette Epps\n",
      "Alexander Grebenkin\n",
      "Butch Wilmore\n",
      "Sunita Williams\n",
      "Li Guangsu\n",
      "Li Cong\n",
      "Ye Guangfu\n"
     ]
    }
   ],
   "source": [
    "astronauts = data.get('people')\n",
    "print(\"There are {} astronauts on ISS\".format(len(astronauts)))\n",
    "print(\"And their names are :\")\n",
    "for astronaut in astronauts:\n",
    "    print(astronaut.get('name'))"
   ]
  },
  {
   "cell_type": "code",
   "execution_count": 3,
   "id": "6eb7c0a8-a1a4-4a3d-82a7-87ca9c0bb208",
   "metadata": {},
   "outputs": [],
   "source": [
    "#Actual Lab\n",
    "#Determine # of jobs currently open for various technologies and for various locations\n",
    "#Los Angeles, New York, San Francisco, Washington DC, Seattle, Austin, Detroit\n",
    "import pandas as pd\n",
    "import json\n",
    "#While using this lab I need to pass the payload info for the params attribute in the form of key value pairs\n",
    "api_url=\"https://cf-courses-data.s3.us.cloud-object-storage.appdomain.cloud/IBM-DA0321EN-SkillsNetwork/labs/module%201/Accessing%20Data%20Using%20APIs/jobs.json\"\n",
    "def get_number_of_jobs_T(technology):\n",
    "    payload={\"Job Title\": \"\",\"Job Experience Required\": \"\", \"Key Skills\": technology,\n",
    "             \"Role Category\": \"\", \"Location\": \"\", \"Functional Area\": \"\", \"Industry\": \"\", \"Role\": \"\"}\n",
    "    r=requests.get(api_url,params=payload)\n",
    "    data = r.json()\n",
    "    number_of_jobs = sum(technology.lower() in job[\"Key Skills\"].lower() for job in data)\n",
    "    return number_of_jobs"
   ]
  },
  {
   "cell_type": "code",
   "execution_count": 5,
   "id": "75b351d7-3d7f-4192-a489-8acd2a301bea",
   "metadata": {},
   "outputs": [],
   "source": [
    "def get_number_of_jobs_L(location):\n",
    "    payload={\"Job Title\": \"\",\"Job Experience Required\": \"\", \"Key Skills\": \"\",\n",
    "             \"Role Category\": \"\", \"Location\": location, \"Functional Area\": \"\", \"Industry\": \"\", \"Role\": \"\"}\n",
    "    r=requests.get(api_url,params=payload)\n",
    "    data = r.json()\n",
    "    number_of_jobs = sum(location.lower() in job[\"Location\"].lower() for job in data)\n",
    "    return location,number_of_jobs"
   ]
  },
  {
   "cell_type": "code",
   "execution_count": 9,
   "id": "534af69e-91e2-40bf-b48b-ad7b71430052",
   "metadata": {},
   "outputs": [],
   "source": [
    "from openpyxl import Workbook"
   ]
  },
  {
   "cell_type": "code",
   "execution_count": 41,
   "id": "2ce7012c-ac5e-484f-9f1c-0a176db839db",
   "metadata": {},
   "outputs": [],
   "source": [
    "tech_list = ['Python', 'Java', 'C++', 'C#', 'SQL']\n",
    "wb=Workbook()\n",
    "ws=wb.active\n",
    "ws.title = \"Number of Job Postings\"\n",
    "ws.append([\"Technology\", \"Number of Jobs\"])\n",
    "for tech in tech_list:\n",
    "    number_of_jobs = get_number_of_jobs_T(tech)\n",
    "    ws.append([tech, number_of_jobs])"
   ]
  },
  {
   "cell_type": "code",
   "execution_count": 43,
   "id": "7a8418f8-68a6-41c8-ac32-3fd857014b1f",
   "metadata": {},
   "outputs": [],
   "source": [
    "wb.save(\"job-postings.xlsx\")"
   ]
  },
  {
   "cell_type": "code",
   "execution_count": 11,
   "id": "50725c79-4f22-48a8-986f-a989f1b26f8c",
   "metadata": {},
   "outputs": [],
   "source": [
    "full_list = [\"C\",\"C#\",\"C++\",\"Java\",\"JavaScript\",\"Python\",\"Scala\",\"Oracle\",\"SQL Server\",\"MySQL Server\",\"PostgreSQL\",\"MongoDB\"]\n",
    "wb=Workbook()\n",
    "ws=wb.active\n",
    "ws.title = \"Full Number of Job Postings\"\n",
    "ws.append([\"Technology\", \"Number of Jobs\"])\n",
    "for tech in full_list:\n",
    "    number_of_jobs = get_number_of_jobs_T(tech)\n",
    "    ws.append([tech, number_of_jobs])"
   ]
  },
  {
   "cell_type": "code",
   "execution_count": 13,
   "id": "e8d9d425-6e2b-4306-8c03-8c8b55eedf88",
   "metadata": {},
   "outputs": [],
   "source": [
    "wb.save(\"all-job-postings.xlsx\")"
   ]
  },
  {
   "cell_type": "code",
   "execution_count": null,
   "id": "8b0b7db0-bddf-4684-974a-51ff48d036ed",
   "metadata": {},
   "outputs": [],
   "source": []
  }
 ],
 "metadata": {
  "kernelspec": {
   "display_name": "Python [conda env:base] *",
   "language": "python",
   "name": "conda-base-py"
  },
  "language_info": {
   "codemirror_mode": {
    "name": "ipython",
    "version": 3
   },
   "file_extension": ".py",
   "mimetype": "text/x-python",
   "name": "python",
   "nbconvert_exporter": "python",
   "pygments_lexer": "ipython3",
   "version": "3.12.7"
  }
 },
 "nbformat": 4,
 "nbformat_minor": 5
}
