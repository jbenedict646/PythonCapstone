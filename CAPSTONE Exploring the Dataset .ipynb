{
 "cells": [
  {
   "cell_type": "code",
   "execution_count": 60,
   "id": "15115f3a-5b1c-4837-8fbc-9a5054c8434f",
   "metadata": {},
   "outputs": [],
   "source": [
    "import pandas as pd\n",
    "file_path = \"https://cf-courses-data.s3.us.cloud-object-storage.appdomain.cloud/n01PQ9pSmiRX6520flujwQ/survey-data.csv\"\n",
    "df = pd.read_csv(file_path)"
   ]
  },
  {
   "cell_type": "code",
   "execution_count": 68,
   "id": "01b7b94b-9c2f-442c-8200-d7dd9ff1e4ae",
   "metadata": {},
   "outputs": [
    {
     "name": "stdout",
     "output_type": "stream",
     "text": [
      "65437\n",
      "115\n",
      "ResponseId               int64\n",
      "MainBranch              object\n",
      "Age                     object\n",
      "Employment              object\n",
      "RemoteWork              object\n",
      "                        ...   \n",
      "SurveyLength            object\n",
      "SurveyEase              object\n",
      "ConvertedCompYearly    float64\n",
      "JobSat                 float64\n",
      "Midpoint Age           float64\n",
      "Length: 115, dtype: object\n"
     ]
    }
   ],
   "source": [
    "print(df.shape[0]) #Number of rows\n",
    "print(df.shape[1]) #Number of columns\n",
    "print(df.dtypes) #Data types"
   ]
  },
  {
   "cell_type": "code",
   "execution_count": 66,
   "id": "1a8d64a1-3e45-490a-8897-cc8f445b5052",
   "metadata": {},
   "outputs": [
    {
     "data": {
      "text/plain": [
       "array(['Under 18 years old', '35-44 years old', '45-54 years old',\n",
       "       '18-24 years old', '25-34 years old', '55-64 years old',\n",
       "       'Prefer not to say', '65 years or older'], dtype=object)"
      ]
     },
     "execution_count": 66,
     "metadata": {},
     "output_type": "execute_result"
    }
   ],
   "source": [
    "df['Age'].unique()"
   ]
  },
  {
   "cell_type": "code",
   "execution_count": 62,
   "id": "60c647d2-171a-4398-a3be-f97615e2e7af",
   "metadata": {},
   "outputs": [
    {
     "data": {
      "text/plain": [
       "32.73180526760347"
      ]
     },
     "execution_count": 62,
     "metadata": {},
     "output_type": "execute_result"
    }
   ],
   "source": [
    "age_midpoints = {\n",
    "    'Under 18 years old': 9,        # Midpoint of 0-18\n",
    "    '18-24 years old': 21,         # Midpoint of 18-24\n",
    "    '25-34 years old': 29.5,       # Midpoint of 25-34\n",
    "    '35-44 years old': 39.5,       # Midpoint of 35-44\n",
    "    '45-54 years old': 49.5,       # Midpoint of 45-54\n",
    "    '55-64 years old': 59.5,       # Midpoint of 55-64\n",
    "    '65 years or older': 70,       # Approximate midpoint for 65+\n",
    "    'Prefer not to say': None      # Exclude from calculations\n",
    "}\n",
    "df['Midpoint Age'] = df['Age'].map(age_midpoints) #Mapped the object datatype Age to numerical values and created a new column\n",
    "exclude_none = df.dropna(subset = ['Midpoint Age']) #Excluded Prefer not to say\n",
    "mean_age = exclude_none['Midpoint Age'].mean() #Created a variable with the mean\n",
    "mean_age"
   ]
  },
  {
   "cell_type": "code",
   "execution_count": 51,
   "id": "85d08a8c-5a8c-4286-8087-5c2f33f8d443",
   "metadata": {},
   "outputs": [
    {
     "name": "stdout",
     "output_type": "stream",
     "text": [
      "185\n"
     ]
    }
   ],
   "source": [
    "print(df['Country'].nunique()) #nunique prints the number of unique values in the column"
   ]
  }
 ],
 "metadata": {
  "kernelspec": {
   "display_name": "Python [conda env:base] *",
   "language": "python",
   "name": "conda-base-py"
  },
  "language_info": {
   "codemirror_mode": {
    "name": "ipython",
    "version": 3
   },
   "file_extension": ".py",
   "mimetype": "text/x-python",
   "name": "python",
   "nbconvert_exporter": "python",
   "pygments_lexer": "ipython3",
   "version": "3.12.7"
  }
 },
 "nbformat": 4,
 "nbformat_minor": 5
}
